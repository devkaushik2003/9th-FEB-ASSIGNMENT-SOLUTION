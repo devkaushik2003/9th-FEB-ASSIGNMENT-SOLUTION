{
 "cells": [
  {
   "cell_type": "code",
   "execution_count": 4,
   "id": "8535187d-b3dd-4fba-8239-04df0d5d8bb0",
   "metadata": {
    "tags": []
   },
   "outputs": [
    {
     "data": {
      "text/plain": [
       "('nissan GTR', 300, 32)"
      ]
     },
     "execution_count": 4,
     "metadata": {},
     "output_type": "execute_result"
    }
   ],
   "source": [
    "#Q1, Create a vehicle class with an init method having instance variables as name_of_vehicle, max_speed\n",
    "and average_of_vehicle.\n",
    "class vehicle:\n",
    "    def __init__(self,name_of_vehicle, max_speed ,average_of_vehicle):\n",
    "        self.name_of_vehicle = name_of_vehicle\n",
    "        self.max_speed = max_speed\n",
    "        self.average_of_vehicle = average_of_vehicle\n",
    "    \n",
    "    def display(self):\n",
    "        return self.name_of_vehicle, self.max_speed ,self.average_of_vehicle\n",
    "    \n",
    "v = vehicle(\"nissan GTR\",300,32)\n",
    "v.display()\n",
    "    "
   ]
  },
  {
   "cell_type": "code",
   "execution_count": 8,
   "id": "2a43d2f9-7f90-4812-b999-415003e170c0",
   "metadata": {
    "tags": []
   },
   "outputs": [
    {
     "data": {
      "text/plain": [
       "('SUPRA', 4)"
      ]
     },
     "execution_count": 8,
     "metadata": {},
     "output_type": "execute_result"
    }
   ],
   "source": [
    "#Q2 Create a child class car from the vehicle class created in Que 1, which will inherit the vehicle class.\n",
    "# Create a method named seating_capacity which takes capacity as an argument and returns the name of\n",
    "# the vehicle and its seating capacity.\n",
    "\n",
    "class car(vehicle):\n",
    "    def seating_capacity(self,capacity):\n",
    "        return self.name_of_vehicle , capacity\n",
    "c = car(\"SUPRA\",360,45)\n",
    "c.seating_capacity(4)"
   ]
  },
  {
   "cell_type": "code",
   "execution_count": 12,
   "id": "59eabfbd-5afd-401d-b01f-32adde022612",
   "metadata": {
    "tags": []
   },
   "outputs": [
    {
     "data": {
      "text/plain": [
       "'this is the method from first class'"
      ]
     },
     "execution_count": 12,
     "metadata": {},
     "output_type": "execute_result"
    }
   ],
   "source": [
    "# What is multiple inheritance? Write a python code to demonstrate multiple inheritance.\n",
    "# When a class is derived from more than one base class it is called multiple Inheritance.\n",
    "# The derived class inherits all the features of the base case.\n",
    "class parent:\n",
    "    def metho1(self):\n",
    "        return \"this is the method from first class\"\n",
    "\n",
    "class child:\n",
    "    def metho2(self):\n",
    "        return \"this is the method from second class\"\n",
    "\n",
    "class superchild(parent,child):\n",
    "    pass\n",
    "s = superchild()\n",
    "s.metho1()\n",
    "\n",
    "\n",
    "\n"
   ]
  },
  {
   "cell_type": "code",
   "execution_count": 14,
   "id": "b1d912db-b5bf-432c-b57b-e704478b1f1a",
   "metadata": {
    "tags": []
   },
   "outputs": [
    {
     "data": {
      "text/plain": [
       "'this is the method from second class'"
      ]
     },
     "execution_count": 14,
     "metadata": {},
     "output_type": "execute_result"
    }
   ],
   "source": [
    "s.metho2()\n"
   ]
  },
  {
   "cell_type": "code",
   "execution_count": 16,
   "id": "8c4ac85a-ff41-476d-909c-5e2433a5eaf7",
   "metadata": {
    "tags": []
   },
   "outputs": [
    {
     "name": "stdout",
     "output_type": "stream",
     "text": [
      "John\n",
      "Jack\n"
     ]
    }
   ],
   "source": [
    "# What are getter and setter in python? Create a class and create a getter \n",
    "# and a setter method in this class.\n",
    "# getter and setter methods are used to access and modify the attributes of a class respectively.\n",
    "# They are also known as accessor and mutator methods.\n",
    "class Person:\n",
    "    def __init__(self, name):\n",
    "        self.__name = name  \n",
    "    \n",
    "    def get_name(self):\n",
    "        return self.__name \n",
    "    \n",
    "    def set_name(self, name):\n",
    "        self.__name = name \n",
    "\n",
    "p = Person(\"John\")\n",
    "\n",
    "name = p.get_name()\n",
    "print(name) \n",
    "\n",
    "p.set_name(\"Jack\")\n",
    "name = p.get_name()\n",
    "print(name) \n",
    "\n"
   ]
  },
  {
   "cell_type": "code",
   "execution_count": 27,
   "id": "b61f37aa-e247-43fe-8e9e-e7bc184137d2",
   "metadata": {
    "tags": []
   },
   "outputs": [
    {
     "data": {
      "text/plain": [
       "'this is , in parent'"
      ]
     },
     "execution_count": 27,
     "metadata": {},
     "output_type": "execute_result"
    }
   ],
   "source": [
    "# Q5.What is method overriding in python? Write a python code to demonstrate method overriding.\n",
    "# Method overriding is a feature of object-oriented programming where a subclass provides a\n",
    "# different implementation for a method that is already defined in its superclass.\n",
    "class papa:\n",
    "    def display(self,dev):\n",
    "        return \"this is , \"+dev\n",
    "class beta(papa):\n",
    "    def display(self,dev):\n",
    "        return \"this is , \" + dev\n",
    "b = beta()\n",
    "b.display(\"in parent\")"
   ]
  },
  {
   "cell_type": "code",
   "execution_count": 28,
   "id": "41ef6689-bf86-4510-b6b8-59faaae200e5",
   "metadata": {
    "tags": []
   },
   "outputs": [
    {
     "data": {
      "text/plain": [
       "'this is , in child'"
      ]
     },
     "execution_count": 28,
     "metadata": {},
     "output_type": "execute_result"
    }
   ],
   "source": [
    "b.display(\"in child\")"
   ]
  }
 ],
 "metadata": {
  "kernelspec": {
   "display_name": "Python 3 (ipykernel)",
   "language": "python",
   "name": "python3"
  },
  "language_info": {
   "codemirror_mode": {
    "name": "ipython",
    "version": 3
   },
   "file_extension": ".py",
   "mimetype": "text/x-python",
   "name": "python",
   "nbconvert_exporter": "python",
   "pygments_lexer": "ipython3",
   "version": "3.10.0"
  }
 },
 "nbformat": 4,
 "nbformat_minor": 5
}
